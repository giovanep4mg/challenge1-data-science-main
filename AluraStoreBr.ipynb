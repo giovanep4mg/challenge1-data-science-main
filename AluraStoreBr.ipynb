{
  "cells": [
    {
      "cell_type": "markdown",
      "metadata": {
        "id": "RhEdWd9YUR6H"
      },
      "source": [
        "### Importação dos dados\n",
        "\n"
      ]
    },
    {
      "cell_type": "code",
      "execution_count": 35,
      "metadata": {
        "colab": {
          "base_uri": "https://localhost:8080/",
          "height": 206
        },
        "id": "T3EvaeQ_INIL",
        "outputId": "7194bc65-372c-47e6-cb47-d4bfc9952c91"
      },
      "outputs": [],
      "source": [
        "import pandas as pd\n",
        "\n",
        "\n",
        "loja = pd.read_csv('./base-de-dados-challenge-1/loja_1.csv')\n",
        "loja2 = pd.read_csv('./base-de-dados-challenge-1/loja_2.csv')\n",
        "loja3 = pd.read_csv('./base-de-dados-challenge-1/loja_3.csv')\n",
        "loja4 = pd.read_csv('./base-de-dados-challenge-1/loja_4.csv')\n"
      ]
    },
    {
      "cell_type": "markdown",
      "metadata": {
        "id": "X62IW3KFUIYm"
      },
      "source": [
        "#1. Análise do faturamento\n"
      ]
    },
    {
      "cell_type": "code",
      "execution_count": 36,
      "metadata": {
        "id": "xykobSftV64I"
      },
      "outputs": [
        {
          "name": "stdout",
          "output_type": "stream",
          "text": [
            "Faturamento total da loja 1: R$ 1534509.12\n",
            "Faturamento total da loja 2: R$ 1488459.06\n",
            "Faturamento total da loja 3: R$ 1464025.03\n",
            "Faturamento total da loja 4: R$ 1384497.58\n"
          ]
        }
      ],
      "source": [
        "##### Análise da loja 1\n",
        "\n",
        "# Soma todos os preços e salva na variável \"precos_totais\"\n",
        "faturamento_total_loja1 = loja[\"Preço\"].sum()\n",
        "\n",
        "# Exibi a mensagem, com o resultado\n",
        "print(f\"Faturamento total da loja 1: R$ {faturamento_total_loja1:.2f}\")\n",
        "\n",
        "##### Análise da loja 2\n",
        "\n",
        "# Soma todos os preços e salva na variável \"precos_totais\"\n",
        "faturamento_total_loja2 = loja2[\"Preço\"].sum()\n",
        "\n",
        "# Exibi a mensagem, com o resultado\n",
        "print(f\"Faturamento total da loja 2: R$ {faturamento_total_loja2:.2f}\")\n",
        "\n",
        "##### Análise da loja 3\n",
        "\n",
        "# Soma todos os preços e salva na variável \"precos_totais\"\n",
        "faturamento_total_loja3 = loja3[\"Preço\"].sum()\n",
        "\n",
        "# Exibi a mensagem, com o resultado\n",
        "print(f\"Faturamento total da loja 3: R$ {faturamento_total_loja3:.2f}\")\n",
        "\n",
        "##### Análise da loja 4\n",
        "\n",
        "# Soma todos os preços e salva na variável \"precos_totais\"\n",
        "faturamento_total_loja4 = loja4[\"Preço\"].sum()\n",
        "\n",
        "# Exibi a mensagem, com o resultado\n",
        "print(f\"Faturamento total da loja 4: R$ {faturamento_total_loja4:.2f}\")\n"
      ]
    },
    {
      "cell_type": "markdown",
      "metadata": {},
      "source": [
        "# Vendas totais"
      ]
    },
    {
      "cell_type": "code",
      "execution_count": 49,
      "metadata": {},
      "outputs": [
        {
          "name": "stdout",
          "output_type": "stream",
          "text": [
            "Totais de itens vendido na loja 1: 2359\n",
            "Totais de itens vendido na loja 2: 2359\n",
            "Totais de itens vendido na loja 3: 2359\n",
            "Totais de itens vendido na loja 4: 2358\n"
          ]
        }
      ],
      "source": [
        "##### \n",
        "\n",
        "totais_vendas_loja1 = loja[\"Produto\"].count()\n",
        "\n",
        "print(f\"Totais de itens vendido na loja 1: {totais_vendas_loja1}\")\n",
        "\n",
        "####\n",
        "\n",
        "totais_vendas_loja2 = loja2[\"Produto\"].count()\n",
        "\n",
        "print(f\"Totais de itens vendido na loja 2: {totais_vendas_loja2}\")\n",
        "\n",
        "#############\n",
        "\n",
        "totais_vendas_loja3 = loja3[\"Produto\"].count()\n",
        "\n",
        "print(f\"Totais de itens vendido na loja 3: {totais_vendas_loja3}\")\n",
        "\n",
        "##########\n",
        "\n",
        "totais_vendas_loja4 = loja4[\"Produto\"].count()\n",
        "\n",
        "print(f\"Totais de itens vendido na loja 4: {totais_vendas_loja4}\")"
      ]
    },
    {
      "cell_type": "markdown",
      "metadata": {},
      "source": [
        "# Ticket Médio\n",
        "\n",
        "* O que é: Faturamento dividido pela quantidade de vendas."
      ]
    },
    {
      "cell_type": "code",
      "execution_count": 57,
      "metadata": {},
      "outputs": [
        {
          "name": "stdout",
          "output_type": "stream",
          "text": [
            "Ticket Médio, loja 1: 650.49\n",
            "Ticket Médio, loja 2: 630.97\n",
            "Ticket Médio, loja 3: 620.61\n",
            "Ticket Médio, loja 4: 587.15\n"
          ]
        }
      ],
      "source": [
        "###############\n",
        "\n",
        "ticket_medio_loja1 = faturamento_total_loja1 / totais_vendas_loja1\n",
        "\n",
        "print(f\"Ticket Médio, loja 1: {ticket_medio_loja1:.2f}\")\n",
        "\n",
        "###########\n",
        "\n",
        "ticket_medio_loja2 = faturamento_total_loja2 / totais_vendas_loja2\n",
        "\n",
        "print(f\"Ticket Médio, loja 2: {ticket_medio_loja2:.2f}\")\n",
        "\n",
        "#################\n",
        "\n",
        "ticket_medio_loja3 = faturamento_total_loja3 / totais_vendas_loja3\n",
        "\n",
        "print(f\"Ticket Médio, loja 3: {ticket_medio_loja3:.2f}\")\n",
        "\n",
        "###########\n",
        "\n",
        "ticket_medio_loja4 = faturamento_total_loja4 / totais_vendas_loja4\n",
        "\n",
        "print(f\"Ticket Médio, loja 4: {ticket_medio_loja4:.2f}\")\n",
        "\n",
        "###"
      ]
    },
    {
      "cell_type": "markdown",
      "metadata": {
        "id": "2V_vcAPzWZmR"
      },
      "source": [
        "# 2. Vendas por Categoria\n"
      ]
    },
    {
      "cell_type": "code",
      "execution_count": 7,
      "metadata": {
        "id": "A34YupIuYhfF"
      },
      "outputs": [
        {
          "name": "stdout",
          "output_type": "stream",
          "text": [
            "Categoria do Produto\n",
            "moveis                   465\n",
            "eletronicos              448\n",
            "brinquedos               324\n",
            "eletrodomesticos         312\n",
            "esporte e lazer          284\n",
            "instrumentos musicais    182\n",
            "livros                   173\n",
            "utilidades domesticas    171\n",
            "Name: count, dtype: int64\n"
          ]
        }
      ],
      "source": [
        "#### Vendas por Categoria Loja 1\n",
        "\n",
        "vendas_por_categoria = loja[\"Categoria do Produto\"].value_counts()\n",
        "\n",
        "print(vendas_por_categoria)\n",
        "\n",
        "\n"
      ]
    },
    {
      "cell_type": "code",
      "execution_count": 8,
      "metadata": {
        "id": "yZR6cOjXYSk1"
      },
      "outputs": [
        {
          "name": "stdout",
          "output_type": "stream",
          "text": [
            "Categoria do Produto\n",
            "moveis                   442\n",
            "eletronicos              422\n",
            "brinquedos               313\n",
            "eletrodomesticos         305\n",
            "esporte e lazer          275\n",
            "instrumentos musicais    224\n",
            "livros                   197\n",
            "utilidades domesticas    181\n",
            "Name: count, dtype: int64\n"
          ]
        }
      ],
      "source": [
        "#### Vendas por Categoria Loja 2\n",
        "\n",
        "vendas_por_categoria = loja2[\"Categoria do Produto\"].value_counts()\n",
        "\n",
        "print(vendas_por_categoria)\n"
      ]
    },
    {
      "cell_type": "code",
      "execution_count": 9,
      "metadata": {},
      "outputs": [
        {
          "name": "stdout",
          "output_type": "stream",
          "text": [
            "Categoria do Produto\n",
            "moveis                   499\n",
            "eletronicos              451\n",
            "brinquedos               315\n",
            "eletrodomesticos         278\n",
            "esporte e lazer          277\n",
            "livros                   185\n",
            "instrumentos musicais    177\n",
            "utilidades domesticas    177\n",
            "Name: count, dtype: int64\n"
          ]
        }
      ],
      "source": [
        "#### Vendas por Categoria Loja 3\n",
        "\n",
        "vendas_por_categoria = loja3[\"Categoria do Produto\"].value_counts()\n",
        "\n",
        "print(vendas_por_categoria)\n",
        "\n"
      ]
    },
    {
      "cell_type": "code",
      "execution_count": 10,
      "metadata": {},
      "outputs": [
        {
          "name": "stdout",
          "output_type": "stream",
          "text": [
            "Categoria do Produto\n",
            "moveis                   480\n",
            "eletronicos              451\n",
            "brinquedos               338\n",
            "esporte e lazer          277\n",
            "eletrodomesticos         254\n",
            "utilidades domesticas    201\n",
            "livros                   187\n",
            "instrumentos musicais    170\n",
            "Name: count, dtype: int64\n"
          ]
        }
      ],
      "source": [
        "#### Vendas por Categoria Loja 4\n",
        "\n",
        "vendas_por_categoria = loja4[\"Categoria do Produto\"].value_counts()\n",
        "\n",
        "print(vendas_por_categoria)\n",
        "\n"
      ]
    },
    {
      "cell_type": "markdown",
      "metadata": {
        "id": "Rq6tU_xSY3jk"
      },
      "source": [
        "# 3. Média de Avaliação das Lojas"
      ]
    },
    {
      "cell_type": "code",
      "execution_count": 51,
      "metadata": {
        "id": "bh3jjjJwY5MU"
      },
      "outputs": [
        {
          "name": "stdout",
          "output_type": "stream",
          "text": [
            "A média da avaliação da loja 1 é 3.98\n",
            "A média da avaliação da loja 2 é 4.04\n",
            "A média da avaliação da loja 3 é 4.05\n",
            "A média da avaliação da loja 4 é 4.00\n"
          ]
        }
      ],
      "source": [
        "############ Média avaliação da loja 1\n",
        "\n",
        "media_avaliacao_loja1 = loja[\"Avaliação da compra\"].mean()\n",
        "\n",
        "print(f\"A média da avaliação da loja 1 é {media_avaliacao_loja1:.2f}\")\n",
        "\n",
        "############ Média avaliação da loja 2\n",
        "\n",
        "media_avaliacao_loja2 = loja2[\"Avaliação da compra\"].mean()\n",
        "\n",
        "print(f\"A média da avaliação da loja 2 é {media_avaliacao_loja2:.2f}\")\n",
        "\n",
        "############ Média avaliação da loja 3\n",
        "\n",
        "media_avaliacao_loja3 = loja3[\"Avaliação da compra\"].mean()\n",
        "\n",
        "print(f\"A média da avaliação da loja 3 é {media_avaliacao_loja3:.2f}\")\n",
        "\n",
        "############ Média avaliação da loja 4\n",
        "\n",
        "media_avaliacao_loja4 = loja4[\"Avaliação da compra\"].mean()\n",
        "\n",
        "print(f\"A média da avaliação da loja 4 é {media_avaliacao_loja4:.2f}\")\n"
      ]
    },
    {
      "cell_type": "markdown",
      "metadata": {
        "id": "DmNp1KPBZCm-"
      },
      "source": [
        "# 4. Produtos Mais e Menos Vendidos"
      ]
    },
    {
      "cell_type": "code",
      "execution_count": 15,
      "metadata": {
        "id": "qoyjqijQZHfF"
      },
      "outputs": [
        {
          "name": "stdout",
          "output_type": "stream",
          "text": [
            "Produtos mais vendidos:\n",
            "Produto\n",
            "TV Led UHD 4K         60\n",
            "Guarda roupas         60\n",
            "Micro-ondas           60\n",
            "Secadora de roupas    58\n",
            "Blocos de montar      56\n",
            "Cômoda                56\n",
            "Bola de basquete      55\n",
            "Copo térmico          54\n",
            "Impressora            54\n",
            "Bicicleta             54\n",
            "Name: count, dtype: int64\n"
          ]
        }
      ],
      "source": [
        "#######    Produtos Mais vendidos na loja 1\n",
        "\n",
        "produtos_vendidos = loja[\"Produto\"].value_counts()\n",
        "\n",
        "mais_vendidos = produtos_vendidos.head(10)\n",
        "\n",
        "print(\"Produtos mais vendidos:\")\n",
        "print(mais_vendidos)\n",
        "\n"
      ]
    },
    {
      "cell_type": "code",
      "execution_count": 16,
      "metadata": {},
      "outputs": [
        {
          "name": "stdout",
          "output_type": "stream",
          "text": [
            "Produtos Menos Vendidos:\n",
            "Produto\n",
            "Dinossauro Rex                 40\n",
            "Mesa de jantar                 40\n",
            "Corda de pular                 40\n",
            "Boneca bebê                    40\n",
            "Mochila                        39\n",
            "Ciência de dados com python    39\n",
            "Pandeiro                       36\n",
            "Panela de pressão              35\n",
            "Headset                        33\n",
            "Celular ABXY                   33\n",
            "Name: count, dtype: int64\n"
          ]
        }
      ],
      "source": [
        "############ Produtos menos vendido na loja 1\n",
        "\n",
        "\n",
        "produtos_vendidos = loja[\"Produto\"].value_counts()\n",
        "\n",
        "menos_vendidos = produtos_vendidos.tail(10)\n",
        "print(\"Produtos Menos Vendidos:\")\n",
        "print(menos_vendidos)\n",
        "\n"
      ]
    },
    {
      "cell_type": "code",
      "execution_count": 17,
      "metadata": {},
      "outputs": [
        {
          "name": "stdout",
          "output_type": "stream",
          "text": [
            "Produtos mais vendidos, na loja 2:\n",
            "Produto\n",
            "Iniciando em programação    65\n",
            "Micro-ondas                 62\n",
            "Bateria                     61\n",
            "Violão                      58\n",
            "Pandeiro                    58\n",
            "Secadora de roupas          57\n",
            "Celular Plus X42            55\n",
            "Guarda roupas               54\n",
            "Blocos de montar            54\n",
            "Jogo de panelas             52\n",
            "Name: count, dtype: int64\n"
          ]
        }
      ],
      "source": [
        "#######    Produtos Mais vendidos na loja 2\n",
        "\n",
        "produtos_vendidos = loja2[\"Produto\"].value_counts()\n",
        "\n",
        "mais_vendidos = produtos_vendidos.head(10)\n",
        "\n",
        "print(\"Produtos mais vendidos, na loja 2:\")\n",
        "print(mais_vendidos)\n",
        "\n"
      ]
    },
    {
      "cell_type": "code",
      "execution_count": 18,
      "metadata": {},
      "outputs": [
        {
          "name": "stdout",
          "output_type": "stream",
          "text": [
            "Produtos Menos Vendidos:\n",
            "Produto\n",
            "Fogão                 42\n",
            "Celular ABXY          41\n",
            "Smart TV              40\n",
            "Faqueiro              39\n",
            "Assistente virtual    38\n",
            "Fone de ouvido        37\n",
            "Poltrona              35\n",
            "Mesa de jantar        34\n",
            "Impressora            34\n",
            "Jogo de tabuleiro     32\n",
            "Name: count, dtype: int64\n"
          ]
        }
      ],
      "source": [
        "############ Produtos menos vendido na loja 2\n",
        "\n",
        "produtos_vendidos = loja2[\"Produto\"].value_counts()\n",
        "\n",
        "menos_vendidos = produtos_vendidos.tail(10)\n",
        "print(\"Produtos Menos Vendidos:\")\n",
        "print(menos_vendidos)\n",
        "\n"
      ]
    },
    {
      "cell_type": "code",
      "execution_count": 19,
      "metadata": {},
      "outputs": [
        {
          "name": "stdout",
          "output_type": "stream",
          "text": [
            "Produtos mais vendidos, na loja 3:\n",
            "Produto\n",
            "Kit banquetas               57\n",
            "Cama king                   56\n",
            "Mesa de jantar              56\n",
            "Jogo de panelas             55\n",
            "Cômoda                      55\n",
            "Smart TV                    54\n",
            "Modelagem preditiva         53\n",
            "Corda de pular              53\n",
            "Fogão                       53\n",
            "Carrinho controle remoto    52\n",
            "Name: count, dtype: int64\n"
          ]
        }
      ],
      "source": [
        "#######    Produtos Mais vendidos na loja 3\n",
        "\n",
        "produtos_vendidos = loja3[\"Produto\"].value_counts()\n",
        "\n",
        "mais_vendidos = produtos_vendidos.head(10)\n",
        "\n",
        "print(\"Produtos mais vendidos, na loja 3:\")\n",
        "print(mais_vendidos)\n"
      ]
    },
    {
      "cell_type": "code",
      "execution_count": 20,
      "metadata": {},
      "outputs": [
        {
          "name": "stdout",
          "output_type": "stream",
          "text": [
            "Produtos Menos Vendidos:\n",
            "Produto\n",
            "Headset               39\n",
            "Boneca bebê           39\n",
            "Faqueiro              39\n",
            "Assistente virtual    39\n",
            "Copo térmico          38\n",
            "Guitarra              38\n",
            "Mochila               36\n",
            "Micro-ondas           36\n",
            "Jogo de copos         36\n",
            "Blocos de montar      35\n",
            "Name: count, dtype: int64\n"
          ]
        }
      ],
      "source": [
        "############ Produtos menos vendido na loja 3\n",
        "\n",
        "produtos_vendidos = loja3[\"Produto\"].value_counts()\n",
        "\n",
        "menos_vendidos = produtos_vendidos.tail(10)\n",
        "print(\"Produtos Menos Vendidos:\")\n",
        "print(menos_vendidos)\n",
        "\n"
      ]
    },
    {
      "cell_type": "code",
      "execution_count": 21,
      "metadata": {},
      "outputs": [
        {
          "name": "stdout",
          "output_type": "stream",
          "text": [
            "Produtos mais vendidos, na loja 4:\n",
            "Produto\n",
            "Cama box                    62\n",
            "Faqueiro                    59\n",
            "Dashboards com Power BI     56\n",
            "Cama king                   56\n",
            "Cômoda                      55\n",
            "Carrinho controle remoto    55\n",
            "Mesa de jantar              55\n",
            "Blocos de montar            54\n",
            "Smart TV                    54\n",
            "Pandeiro                    52\n",
            "Name: count, dtype: int64\n"
          ]
        }
      ],
      "source": [
        "#######    Produtos Mais vendidos na loja 4\n",
        "\n",
        "produtos_vendidos = loja4[\"Produto\"].value_counts()\n",
        "\n",
        "mais_vendidos = produtos_vendidos.head(10)\n",
        "\n",
        "print(\"Produtos mais vendidos, na loja 4:\")\n",
        "print(mais_vendidos)\n",
        "\n"
      ]
    },
    {
      "cell_type": "code",
      "execution_count": 22,
      "metadata": {},
      "outputs": [
        {
          "name": "stdout",
          "output_type": "stream",
          "text": [
            "Produtos Menos Vendidos:\n",
            "Produto\n",
            "Cadeira de escritório          40\n",
            "Xadrez de madeira              39\n",
            "Smartwatch                     39\n",
            "Celular ABXY                   39\n",
            "Geladeira                      38\n",
            "Lavadora de roupas             38\n",
            "Ciência de dados com python    38\n",
            "Violão                         37\n",
            "Guarda roupas                  34\n",
            "Guitarra                       33\n",
            "Name: count, dtype: int64\n"
          ]
        }
      ],
      "source": [
        "############ Produtos menos vendido na loja 4\n",
        "\n",
        "produtos_vendidos = loja4[\"Produto\"].value_counts()\n",
        "\n",
        "menos_vendidos = produtos_vendidos.tail(10)\n",
        "print(\"Produtos Menos Vendidos:\")\n",
        "print(menos_vendidos)\n",
        "\n"
      ]
    },
    {
      "cell_type": "markdown",
      "metadata": {
        "id": "Fl0cGi3bZKqU"
      },
      "source": [
        "# 5. Frete Médio por Loja\n"
      ]
    },
    {
      "cell_type": "code",
      "execution_count": 52,
      "metadata": {
        "id": "S2JeaCykZNy9"
      },
      "outputs": [
        {
          "name": "stdout",
          "output_type": "stream",
          "text": [
            "Preço médio do frete na Loja 1: R$ 34.69\n",
            "Preço médio do frete na Loja 2: R$ 33.62\n",
            "Preço médio do frete na Loja 3: R$ 33.07\n",
            "Preço médio do frete na Loja 4: R$ 31.28\n"
          ]
        }
      ],
      "source": [
        "##############      Frete médio loja 1\n",
        "\n",
        "frete_medio = loja[\"Frete\"].mean()\n",
        "\n",
        "print(f\"Preço médio do frete na Loja 1: R$ {frete_medio:.2f}\")\n",
        "\n",
        "\n",
        "##############      Frete médio loja 2\n",
        "\n",
        "frete_medio = loja2[\"Frete\"].mean()\n",
        "\n",
        "print(f\"Preço médio do frete na Loja 2: R$ {frete_medio:.2f}\")\n",
        "\n",
        "##############      Frete médio loja 3\n",
        "\n",
        "frete_medio = loja3[\"Frete\"].mean()\n",
        "\n",
        "print(f\"Preço médio do frete na Loja 3: R$ {frete_medio:.2f}\")\n",
        "\n",
        "##############      Frete médio loja 4\n",
        "\n",
        "frete_medio = loja4[\"Frete\"].mean()\n",
        "\n",
        "print(f\"Preço médio do frete na Loja 4: R$ {frete_medio:.2f}\")\n"
      ]
    },
    {
      "cell_type": "markdown",
      "metadata": {},
      "source": [
        "# Gráficos"
      ]
    },
    {
      "cell_type": "code",
      "execution_count": 53,
      "metadata": {},
      "outputs": [
        {
          "data": {
            "image/png": "[encoded data removed]",
            "text/plain": [
              "<Figure size 800x500 with 1 Axes>"
            ]
          },
          "metadata": {},
          "output_type": "display_data"
        }
      ],
      "source": [
        "import matplotlib.pyplot as plt\n",
        "\n",
        "# Valores de exemplo (substitua pelos seus reais)\n",
        "faturamento_total_loja1 \n",
        "faturamento_total_loja2\n",
        "faturamento_total_loja3\n",
        "faturamento_total_loja4\n",
        "\n",
        "# Dados\n",
        "lojas = [\"Loja 1\", \"Loja 2\", \"Loja 3\", \"Loja 4\"]\n",
        "faturamentos = [faturamento_total_loja1, faturamento_total_loja2, faturamento_total_loja3, faturamento_total_loja4]\n",
        "\n",
        "# Plot\n",
        "plt.figure(figsize=(8, 5))\n",
        "bars = plt.bar(lojas, faturamentos, color=['#4CAF50', '#2196F3', '#FFC107', '#E91E63'])\n",
        "\n",
        "# Adiciona os valores no topo das barras\n",
        "for bar in bars:\n",
        "    yval = bar.get_height()\n",
        "    plt.text(bar.get_x() + bar.get_width()/2, yval + 1000, f\"R$ {yval:,.2f}\", ha='center', fontsize=10)\n",
        "\n",
        "# Estética\n",
        "plt.title(\"Faturamento Total por Loja\")\n",
        "plt.ylabel(\"Faturamento (R$)\")\n",
        "plt.tight_layout()\n",
        "plt.show()\n"
      ]
    },
    {
      "cell_type": "code",
      "execution_count": 54,
      "metadata": {},
      "outputs": [
        {
          "data": {
            "image/png": "[encoded data removed]",
            "text/plain": [
              "<Figure size 800x500 with 1 Axes>"
            ]
          },
          "metadata": {},
          "output_type": "display_data"
        }
      ],
      "source": [
        "import matplotlib.pyplot as plt\n",
        "\n",
        "# Valores das médias das avaliações\n",
        "media_avaliacao_loja1 = 3.98\n",
        "media_avaliacao_loja2 = 4.04\n",
        "media_avaliacao_loja3 = 4.05\n",
        "media_avaliacao_loja4 = 4.00\n",
        "\n",
        "# Dados\n",
        "lojas = [\"Loja 1\", \"Loja 2\", \"Loja 3\", \"Loja 4\"]\n",
        "avaliacoes = [media_avaliacao_loja1, media_avaliacao_loja2, media_avaliacao_loja3, media_avaliacao_loja4]\n",
        "\n",
        "# Plot\n",
        "plt.figure(figsize=(8, 5))\n",
        "bars = plt.bar(lojas, avaliacoes, color=['#4CAF50', '#2196F3', '#FFC107', '#E91E63'])\n",
        "\n",
        "# Adiciona os valores no topo das barras\n",
        "for bar in bars:\n",
        "    yval = bar.get_height()\n",
        "    plt.text(bar.get_x() + bar.get_width()/2, yval + 0.05, f\"{yval:.2f}\", ha='center', fontsize=10)\n",
        "\n",
        "# Estética\n",
        "plt.ylim(0, 5.5)  # Limite do eixo Y para avaliações de 0 a 5\n",
        "plt.title(\"Avaliação Média por Loja\")\n",
        "plt.ylabel(\"Pontuação (0 a 5)\")\n",
        "plt.tight_layout()\n",
        "plt.show()\n"
      ]
    },
    {
      "cell_type": "code",
      "execution_count": 55,
      "metadata": {},
      "outputs": [
        {
          "data": {
            "text/plain": [
              "<Axes: title={'center': 'Vendas por Estado'}, xlabel='Local da compra'>"
            ]
          },
          "execution_count": 55,
          "metadata": {},
          "output_type": "execute_result"
        },
        {
          "data": {
            "image/png": "[encoded data removed]",
            "text/plain": [
              "<Figure size 640x480 with 1 Axes>"
            ]
          },
          "metadata": {},
          "output_type": "display_data"
        }
      ],
      "source": [
        "######### Vendas por Estado\n",
        "\n",
        "vendas_por_estado = loja[\"Local da compra\"].value_counts()\n",
        "vendas_por_estado.plot(kind='bar', title=\"Vendas por Estado\")"
      ]
    },
    {
      "cell_type": "markdown",
      "metadata": {},
      "source": [
        "# Relatório Final"
      ]
    },
    {
      "cell_type": "markdown",
      "metadata": {},
      "source": [
        "### Análise Final das Lojas\n",
        "\n",
        "Com base nas análises realizadas, observamos os seguintes resultados:\n",
        "\n",
        "Faturamento Total das Lojas:\n",
        "\n",
        "* Loja 1: R$ 1.534.509,12\n",
        "* Loja 2: R$ 1.488.459,06\n",
        "* Loja 3: R$ 1.464.025,03\n",
        "* Loja 4: R$ 1.384.497,58\n",
        " \n",
        "Total de Itens Vendidos:\n",
        "\n",
        "* Loja 1: 2.359 itens\n",
        "* Loja 2: 2.359 itens\n",
        "* Loja 3: 2.359 itens\n",
        "* Loja 4: 2.358 itens\n",
        "\n",
        "Ticket Médio por Loja:\n",
        "\n",
        "Ticket médio = Faturamento total ÷ Quantidade de vendas\n",
        "\n",
        "* Loja 1: R$ 650,49\n",
        "* Loja 2: R$ 630,97\n",
        "* Loja 3: R$ 620,61\n",
        "* Loja 4: R$ 587,15\n",
        "\n",
        "Avaliação Média dos Clientes:\n",
        "\n",
        "* Loja 1: 3,98\n",
        "* Loja 2: 4,04\n",
        "* Loja 3: 4,05\n",
        "* Loja 4: 4,00\n",
        "\n",
        "Recomendação:\n",
        "\n",
        "Com base nesses indicadores, recomendo que o Sr. João venda a Loja 4, pelos seguintes motivos:\n",
        "\n",
        "É a loja com menor faturamento entre as quatro.\n",
        "\n",
        "Foi a que menos vendeu itens.\n",
        "\n",
        "Apresenta o menor ticket médio, indicando que os clientes gastam menos por compra.\n",
        "\n",
        "Apesar da avaliação média ser razoável, ela não se destaca positivamente frente às demais.\n",
        "\n",
        "\n",
        "\n",
        "\n",
        "\n"
      ]
    }
  ],
  "metadata": {
    "colab": {
      "provenance": []
    },
    "kernelspec": {
      "display_name": "base",
      "language": "python",
      "name": "python3"
    },
    "language_info": {
      "codemirror_mode": {
        "name": "ipython",
        "version": 3
      },
      "file_extension": ".py",
      "mimetype": "text/x-python",
      "name": "python",
      "nbconvert_exporter": "python",
      "pygments_lexer": "ipython3",
      "version": "3.11.7"
    }
  },
  "nbformat": 4,
  "nbformat_minor": 0
}
